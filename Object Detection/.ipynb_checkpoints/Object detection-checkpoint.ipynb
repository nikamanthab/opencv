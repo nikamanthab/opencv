{
 "cells": [
  {
   "cell_type": "markdown",
   "metadata": {},
   "source": [
    "Template matching:"
   ]
  },
  {
   "cell_type": "code",
   "execution_count": 26,
   "metadata": {
    "scrolled": false
   },
   "outputs": [
    {
     "name": "stdout",
     "output_type": "stream",
     "text": [
      "(60, 45)\n"
     ]
    }
   ],
   "source": [
    "import cv2\n",
    "import numpy as np\n",
    "\n",
    "testimg = cv2.imread(\"/home/nikamanth/Documents/mynotes/cv/Object Detection/waldo.jpg\",0)\n",
    "templateimg = cv2.imread(\"/home/nikamanth/Documents/mynotes/cv/Object Detection/stamp.png\",0)\n",
    "image = cv2.imread(\"/home/nikamanth/Documents/mynotes/cv/Object Detection/waldo.jpg\")\n",
    "\n",
    "cv2.imshow(\"test\",testimg)\n",
    "cv2.imshow(\"template\",templateimg)\n",
    "cv2.waitKey(0)\n",
    "\n",
    "result = cv2.matchTemplate(testimg,templateimg,cv2.TM_CCOEFF)\n",
    "min_val, max_val, min_loc, max_loc = cv2.minMaxLoc(result)\n",
    "\n",
    "print templateimg.shape[:2]\n",
    "# print result\n",
    "# print \"----------\"\n",
    "# print min_val, max_val, min_loc, max_loc\n",
    "\n",
    "topleft = max_loc\n",
    "bottomright = (topleft[0]+templateimg.shape[1],topleft[1]+templateimg.shape[0])\n",
    "cv2.rectangle(image,topleft,bottomright,(225,25,0),5)\n",
    "\n",
    "cv2.imshow(\"test\",image)\n",
    "cv2.waitKey(0)\n",
    "\n",
    "cv2.destroyAllWindows()"
   ]
  },
  {
   "cell_type": "code",
   "execution_count": null,
   "metadata": {},
   "outputs": [],
   "source": []
  }
 ],
 "metadata": {
  "kernelspec": {
   "display_name": "Python 2",
   "language": "python",
   "name": "python2"
  },
  "language_info": {
   "codemirror_mode": {
    "name": "ipython",
    "version": 2
   },
   "file_extension": ".py",
   "mimetype": "text/x-python",
   "name": "python",
   "nbconvert_exporter": "python",
   "pygments_lexer": "ipython2",
   "version": "2.7.15"
  }
 },
 "nbformat": 4,
 "nbformat_minor": 2
}
