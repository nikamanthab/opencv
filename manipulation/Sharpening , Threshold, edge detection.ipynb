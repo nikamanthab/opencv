{
 "cells": [
  {
   "cell_type": "markdown",
   "metadata": {},
   "source": [
    "sharpen:"
   ]
  },
  {
   "cell_type": "code",
   "execution_count": 24,
   "metadata": {},
   "outputs": [],
   "source": [
    "import cv2\n",
    "import numpy as np\n",
    "image = cv2.imread('/home/nikamanth/pythondir/cv/index.jpeg',0)\n",
    "kernel_sharpening = np.array([[0,-1,0],\n",
    "                              [-1,5,-1],\n",
    "                              [0,-1,0]])\n",
    "sharpened = cv2.filter2D(image,-1,kernel_sharpening)\n",
    "cv2.imshow('sharp',sharpened)\n",
    "cv2.waitKey()\n",
    "cv2.destroyAllWindows()"
   ]
  },
  {
   "cell_type": "markdown",
   "metadata": {},
   "source": [
    "Threshold:"
   ]
  },
  {
   "cell_type": "code",
   "execution_count": 25,
   "metadata": {},
   "outputs": [],
   "source": [
    "ret,thres = cv2.threshold(image,127,225,0)\n",
    "cv2.imshow('threshold',thres)\n",
    "cv2.waitKey()\n",
    "cv2.destroyAllWindows()"
   ]
  },
  {
   "cell_type": "markdown",
   "metadata": {},
   "source": [
    "Edge detection - sobel:"
   ]
  },
  {
   "cell_type": "code",
   "execution_count": 3,
   "metadata": {},
   "outputs": [],
   "source": [
    "import cv2\n",
    "import numpy as np\n",
    "import urllib\n",
    "\n",
    "image = cv2.imread('/home/nikamanth/pythondir/cv/index.jpeg',0)\n",
    "\n",
    "\n",
    "height,width = image.shape\n",
    "\n",
    "sobel_x = cv2.Sobel(image, cv2.CV_64F, 0, 1, ksize=5)\n",
    "sobel_y = cv2.Sobel(image, cv2.CV_64F, 1, 0, ksize=5)\n",
    "sobel_OR = cv2.bitwise_or(sobel_x,sobel_y)\n",
    "\n",
    "cv2.imshow(\"original\",image)\n",
    "cv2.waitKey()\n",
    "cv2.imshow(\"Sobel_x\",sobel_x)\n",
    "cv2.waitKey()\n",
    "cv2.imshow(\"Sobel_y\",sobel_y)\n",
    "cv2.waitKey()\n",
    "\n",
    "cv2.imshow(\"OR\",sobel_OR)\n",
    "cv2.waitKey()\n",
    "\n",
    "laplacian = cv2.Laplacian(image, cv2.CV_64F)\n",
    "cv2.imshow(\"laplacian\",laplacian)\n",
    "cv2.waitKey()\n",
    "\n",
    "cv2.destroyAllWindows()"
   ]
  },
  {
   "cell_type": "markdown",
   "metadata": {},
   "source": [
    "edge-detection:canny"
   ]
  },
  {
   "cell_type": "code",
   "execution_count": null,
   "metadata": {},
   "outputs": [],
   "source": [
    "import cv2\n",
    "import numpy as np\n",
    "import urllib\n",
    "\n",
    "image = cv2.imread('/home/nikamanth/pythondir/cv/index.jpeg',0)\n",
    "\n",
    "\n",
    "canny = cv2.Canny(image, 500, 170)\n",
    "cv2.imshow('Canny',canny)\n",
    "cv2.waitKey()\n",
    "\n",
    "cv2.destroyAllWindows()"
   ]
  },
  {
   "cell_type": "markdown",
   "metadata": {},
   "source": [
    "Non Affine perspective Transformation:"
   ]
  },
  {
   "cell_type": "code",
   "execution_count": 8,
   "metadata": {},
   "outputs": [],
   "source": [
    "import cv2\n",
    "import numpy as np\n",
    "import urllib\n",
    "\n",
    "req = urllib.urlopen('https://d1alt1wkdk73qo.cloudfront.net/images/guide/e86bc4e10432457aa9f9fa82a3de3f44/640x960.jpg')\n",
    "arr = np.asarray(bytearray(req.read()), dtype=np.uint8)\n",
    "image = cv2.imdecode(arr, -1)\n",
    "smaller = cv2.pyrDown(image)\n",
    "#50,150\n",
    "#165,100\n",
    "#284,256\n",
    "#175,337\n",
    "points_a = np.float32([[50,150],[165,100],[284,256],[175,337]])\n",
    "points_b = np.float32([[0,0],[0,594],[420,594],[420,0]])\n",
    "M = cv2.getPerspectiveTransform(points_a,points_b)\n",
    "warped = cv2.warpPerspective(smaller,M,(420,594))\n",
    "cv2.imshow(\"smaller\",smaller)\n",
    "cv2.waitKey()\n",
    "cv2.imshow(\"warped\",warped)\n",
    "cv2.waitKey()\n",
    "cv2.destroyAllWindows()"
   ]
  },
  {
   "cell_type": "markdown",
   "metadata": {},
   "source": [
    "Affine Transform:"
   ]
  },
  {
   "cell_type": "code",
   "execution_count": 20,
   "metadata": {},
   "outputs": [],
   "source": [
    "import cv2\n",
    "import numpy as np\n",
    "import urllib\n",
    "\n",
    "req = urllib.urlopen('https://www.geeksforgeeks.org/wp-content/uploads/rectanglesOverlap.png')\n",
    "arr = np.asarray(bytearray(req.read()), dtype=np.uint8)\n",
    "image = cv2.imdecode(arr, -1)\n",
    "col,row,ch = cv2.pyrDown(image,0).shape\n",
    "\n",
    "#50,150\n",
    "#165,100\n",
    "#284,256\n",
    "#175,337\n",
    "points_a = np.float32([[51,124],[403,123],[403,365]])\n",
    "points_b = np.float32([[0,0],[0,594],[420,594]])\n",
    "M = cv2.getAffineTransform(points_a,points_b)\n",
    "warped = cv2.warpAffine(smaller,M,(col,row))\n",
    "cv2.imshow(\"orign\",image)\n",
    "cv2.waitKey()\n",
    "cv2.imshow(\"warped\",warped)\n",
    "cv2.waitKey()\n",
    "cv2.destroyAllWindows()"
   ]
  }
 ],
 "metadata": {
  "kernelspec": {
   "display_name": "Python 2",
   "language": "python",
   "name": "python2"
  },
  "language_info": {
   "codemirror_mode": {
    "name": "ipython",
    "version": 2
   },
   "file_extension": ".py",
   "mimetype": "text/x-python",
   "name": "python",
   "nbconvert_exporter": "python",
   "pygments_lexer": "ipython2",
   "version": "2.7.15"
  }
 },
 "nbformat": 4,
 "nbformat_minor": 2
}
