{
 "cells": [
  {
   "cell_type": "markdown",
   "metadata": {},
   "source": [
    "Hough lines:"
   ]
  },
  {
   "cell_type": "code",
   "execution_count": 5,
   "metadata": {},
   "outputs": [
    {
     "name": "stdout",
     "output_type": "stream",
     "text": [
      "41\n"
     ]
    }
   ],
   "source": [
    "import cv2\n",
    "import numpy as np\n",
    "\n",
    "image = cv2.imread('/home/nikamanth/Documents/mynotes/cv/segmentation/lines.jpg')\n",
    "# image = cv2.pyrDown(image)\n",
    "# image = cv2.pyrDown(image)\n",
    "\n",
    "cv2.imshow(\"image\",image)\n",
    "cv2.waitKey(0)\n",
    "gray = cv2.cvtColor(image,cv2.COLOR_BGR2GRAY)\n",
    "# blur = cv2.GaussianBlur(gray,(3,3),120)\n",
    "edges = cv2.Canny(gray,100,170)\n",
    "cv2.imshow(\"image\",edges)\n",
    "cv2.waitKey(0)\n",
    "lines = cv2.HoughLines(edges, 1, np.pi/180, 120)\n",
    "print len(lines)\n",
    "for i in range(len(lines)):\n",
    "    for rho, theta in lines[i]:\n",
    "        a = np.cos(theta)\n",
    "        b = np.sin(theta)\n",
    "        x0 = a * rho\n",
    "        y0 = b * rho\n",
    "        x1 = int(x0 + 1000*(-b))\n",
    "        y1 = int(y0 + 1000*(a))\n",
    "        x2 = int(x0 - 1000*(-b))\n",
    "        y2 = int(y0 - 1000*(a))\n",
    "        cv2.line(image, (x1, y1),(x2,y2), (255,0,0),2)\n",
    "        cv2.imshow('Hough Lines' , image)\n",
    "        cv2.waitKey(0)\n",
    "\n",
    "cv2.imshow('Hough Lines' , image)\n",
    "cv2.waitKey(0)\n",
    "cv2.destroyAllWindows()"
   ]
  },
  {
   "cell_type": "code",
   "execution_count": 3,
   "metadata": {},
   "outputs": [
    {
     "name": "stdout",
     "output_type": "stream",
     "text": [
      "[0, 1, 2, 3, 4, 5, 6, 7, 8, 9, 10, 11, 12, 13, 14, 15, 16, 17, 18, 19, 20, 21, 22, 23, 24, 25, 26, 27, 28, 29, 30, 31, 32, 33, 34, 35, 36, 37, 38, 39, 40, 41, 42, 43, 44, 45, 46, 47, 48, 49, 50, 51, 52, 53, 54, 55, 56, 57, 58, 59, 60, 61, 62, 63, 64, 65, 66, 67, 68, 69, 70, 71, 72, 73, 74, 75, 76, 77, 78, 79, 80, 81, 82, 83]\n"
     ]
    }
   ],
   "source": [
    "import cv2\n",
    "import numpy as np\n",
    "\n",
    "image = cv2.imread('/home/nikamanth/Documents/mynotes/cv/segmentation/lines.jpg')\n",
    "# image = cv2.pyrDown(image)\n",
    "# image = cv2.pyrDown(image)\n",
    "\n",
    "cv2.imshow(\"image\",image)\n",
    "cv2.waitKey(0)\n",
    "gray = cv2.cvtColor(image,cv2.COLOR_BGR2GRAY)\n",
    "blur = cv2.GaussianBlur(gray,(3,3),120)\n",
    "edges = cv2.Canny(blur,100,170)\n",
    "cv2.imshow(\"image\",edges)\n",
    "cv2.waitKey(0)\n",
    "lines = cv2.HoughLinesP(edges, 1, np.pi/180, 100, 0, 0)\n",
    "print range(len(lines))\n",
    "for i in range(len(lines)):\n",
    "    for x1,y1,x2,y2 in lines[i]:\n",
    "        cv2.line(image, (x1, y1),(x2,y2), (255,0,0),2)\n",
    "#         cv2.imshow('Hough Lines' , image)\n",
    "#         cv2.waitKey(0)\n",
    "\n",
    "cv2.imshow('Hough Lines' , image)\n",
    "cv2.waitKey(0)\n",
    "cv2.destroyAllWindows()"
   ]
  },
  {
   "cell_type": "code",
   "execution_count": null,
   "metadata": {},
   "outputs": [],
   "source": []
  }
 ],
 "metadata": {
  "kernelspec": {
   "display_name": "Python 2",
   "language": "python",
   "name": "python2"
  },
  "language_info": {
   "codemirror_mode": {
    "name": "ipython",
    "version": 2
   },
   "file_extension": ".py",
   "mimetype": "text/x-python",
   "name": "python",
   "nbconvert_exporter": "python",
   "pygments_lexer": "ipython2",
   "version": "2.7.15"
  }
 },
 "nbformat": 4,
 "nbformat_minor": 2
}
